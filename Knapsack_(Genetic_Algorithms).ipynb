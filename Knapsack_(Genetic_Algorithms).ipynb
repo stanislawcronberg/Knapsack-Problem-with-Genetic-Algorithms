{
  "nbformat": 4,
  "nbformat_minor": 0,
  "metadata": {
    "colab": {
      "name": "Knapsack (Genetic Algorithms).ipynb",
      "provenance": [],
      "collapsed_sections": [],
      "authorship_tag": "ABX9TyOFuDYdRQ6o+FsCaOERIcdt",
      "include_colab_link": true
    },
    "kernelspec": {
      "name": "python3",
      "display_name": "Python 3"
    },
    "language_info": {
      "name": "python"
    }
  },
  "cells": [
    {
      "cell_type": "markdown",
      "metadata": {
        "id": "view-in-github",
        "colab_type": "text"
      },
      "source": [
        "<a href=\"https://colab.research.google.com/github/stanislawcronberg/Knapsack-Problem-with-Genetic-Algorithms/blob/main/Knapsack_(Genetic_Algorithms).ipynb\" target=\"_parent\"><img src=\"https://colab.research.google.com/assets/colab-badge.svg\" alt=\"Open In Colab\"/></a>"
      ]
    },
    {
      "cell_type": "markdown",
      "metadata": {
        "id": "p1-pCM-56laL"
      },
      "source": [
        "# **Solving the Knapsack Problem with Genetic Algorithms**\n",
        "\n",
        "#### Table of Contents\n",
        "1. The problem\n",
        "2. A greedy algorithm\n",
        "3. Genetic algorithms\n",
        "4. Comparison of solutions\n"
      ]
    },
    {
      "cell_type": "markdown",
      "metadata": {
        "id": "lFdGciLD7Yp7"
      },
      "source": [
        "## 1. **The Problem**\n",
        "\n",
        "We approach the knapsack problem as a combinatorial optimization problem. \n",
        "\n",
        "We have a knapsack (backpack or some container) that can hold a finite amount of weight and we have items we want to place in the knapsack. Each of these items has both a weight and value. \n",
        "\n",
        "**We want to maximize the total value of the items in the knapsack without going above the maximum load the knapsack can hold.** \n",
        "\n",
        "Some details to keep in mind:\n",
        "- If we choose to include an item in the knapsack, we have to include all of it, we cannot take a fraction of an item\n",
        "- We cannot place the same item more than once in our knapsack\n",
        "- Once we have more items to place in the knapsack then it becomes difficult to check whether our solution is optimal\n",
        "- Our measure of how good our current solution is how close we are to the maximum allowed weight on the knapsack "
      ]
    },
    {
      "cell_type": "markdown",
      "metadata": {
        "id": "ma7n6SsM-LCd"
      },
      "source": [
        "First we define a class KnapsackProblem. For any instance of a knapsack problem that we want to consider, it will hold all the relevant information.\n",
        "\n",
        "1. The value of each item\n",
        "2. The weight of each item\n",
        "3. The maximum weight the knapsack can hold\n",
        "4. The number of items available to choose from\n",
        "\n",
        "We also include two methods which will calculate the solutions total value and total weight given a list of decisions. This is a list of 1s and 0s of length equal to the number of items. \n",
        "- 0 means the item at that index is not included\n",
        "- 1 means the item at that index is included\n",
        "\n",
        "Later on we will be working strictly with decision lists, but for the first algorithm we consider, we allow the user to pass a list of the indices of the items that we are choosing to include in the knapsack. This is not the default behaviour.\n",
        "\n",
        "**NOTE:** \n",
        "The values and weights lists have to be modified simultaneously. That is the value and weight of item with index **i** is the **ith** entry in the values and weights lists respectively.\n",
        "\n"
      ]
    },
    {
      "cell_type": "code",
      "metadata": {
        "id": "tfZe3Wp440mb"
      },
      "source": [
        "class KnapsackProblem():\n",
        "    def __init__(self, values:list, weights:list, max_weight:float):\n",
        "        self.values = values\n",
        "        self.weights = weights\n",
        "        self.max_weight = max_weight\n",
        "        self.n_items = len(values)\n",
        "        \n",
        "    def solution_value(self, list_, is_decision_list=True):\n",
        "        \"\"\"\n",
        "        Calculates the total value of our solution given either a list of indices of\n",
        "        our items that we are choosing to add to our knapsack, or given a decision list\n",
        "        of 1's and 0's\n",
        "        \"\"\"\n",
        "        \n",
        "        if is_decision_list:\n",
        "            # dot product between our decision list and our values list\n",
        "            return sum([list_[i] * self.values[i] for i in range(self.n_items)])\n",
        "        else:\n",
        "            return sum([self.values[index] for index in list_])\n",
        "    \n",
        "    \n",
        "    def solution_weight(self, list_, is_decision_list=True):\n",
        "        \"\"\"\n",
        "        Calculates the total weight of our solution given either a list of indices of\n",
        "        our items that we are choosing to add to our knapsack, or given a decision list\n",
        "        of 1's and 0's\n",
        "        \"\"\"\n",
        "        \n",
        "        if is_decision_list:\n",
        "            # dot product between our decision list and our weight list\n",
        "            return sum([list_[i] * self.weights[i] for i in range(self.n_items)])\n",
        "        else:\n",
        "            return sum([self.weights[index] for index in list_])\n",
        "\n",
        "    def find_highest_weight(self):\n",
        "        return max(self.weights)"
      ],
      "execution_count": null,
      "outputs": []
    },
    {
      "cell_type": "markdown",
      "metadata": {
        "id": "DdtbZ-N6_2Oz"
      },
      "source": [
        "With this we can now create an object of our knapsack problem."
      ]
    },
    {
      "cell_type": "code",
      "metadata": {
        "colab": {
          "base_uri": "https://localhost:8080/"
        },
        "id": "nMdiSI-N_8WH",
        "outputId": "64d99f55-e37a-4b59-e1f1-bab223a7bc99"
      },
      "source": [
        "values = [5, 7, 8, 21, 5, 4, 7]\n",
        "weights = [1, 2, 3, 4, 6, 5, 7]\n",
        "max_weight = 15\n",
        "problem = KnapsackProblem(values=values, weights=weights, max_weight=max_weight)\n",
        "\n",
        "print(\"Problem max weight: \", problem.max_weight)\n",
        "print(\"Problem highest weight for item: \", problem.find_highest_weight())\n",
        "print(\"Values:  \", problem.values)\n",
        "print(\"Weights: \", problem.weights)"
      ],
      "execution_count": null,
      "outputs": [
        {
          "output_type": "stream",
          "name": "stdout",
          "text": [
            "Problem max weight:  15\n",
            "Problem highest weight for item:  7\n",
            "Values:   [5, 7, 8, 21, 5, 4, 7]\n",
            "Weights:  [1, 2, 3, 4, 6, 5, 7]\n"
          ]
        }
      ]
    },
    {
      "cell_type": "markdown",
      "metadata": {
        "id": "ychNuY4nAhps"
      },
      "source": [
        "## 2. **Greedy Solution**\n",
        "\n",
        "We quickly take a look at a simple approach to finding a 'good enough' solution to the knapsack problem. \n",
        "\n",
        "Steps:\n",
        "1. Sort the list of values and weights ordering them in descending order by the ratio value/weight\n",
        "2. Select the highest ratio item in the list and attempt to add it to the knapsack (if it is possible to add this much more weight)\n",
        "3. If the item is added, set the respective index in the decision list to 1, else set it to 0 and consider the next item.\n",
        "4. The algorithm stops once we have looked once at each item in the list\n",
        "\n"
      ]
    },
    {
      "cell_type": "code",
      "metadata": {
        "id": "Nijy49_Vjg6H"
      },
      "source": [
        "class GreedyKnapsack:\n",
        "    \n",
        "    def __init__(self, problem:KnapsackProblem):\n",
        "        self.problem = problem \n",
        "    \n",
        "    def solve(self, as_item_choices=True):\n",
        "        \"\"\"\n",
        "        Applies the greedy algorithm to self.problem \n",
        "\n",
        "        as_item_choices  -  flag that determines the format of output,\n",
        "                            either a decision list or the indices of items\n",
        "                            that we are adding to the knapsack\n",
        "        \"\"\"\n",
        "\n",
        "        curr_weight = 0 # current weight in the knapsack\n",
        "        decisions = []  # list which will hold our decisions\n",
        "\n",
        "        # retrieving the maximum weight our knapsack can hold\n",
        "        max_weight = self.problem.max_weight\n",
        "\n",
        "        # sorting our problem values as required by the greedy algorithm\n",
        "        values, weights, indices = self.sort_values_weights()\n",
        "        \n",
        "        # filling our decisions list\n",
        "        for weight in weights:\n",
        "            if weight <= max_weight - curr_weight:\n",
        "                decisions.append(1)\n",
        "                curr_weight = curr_weight + weight\n",
        "            else:\n",
        "                decisions.append(0)\n",
        "            # TODO: - is this part of the algorithm necessary?\n",
        "            #       - do we want a decision list filled with zeros at the end?\n",
        "            #           - we do if we were to use the output for our genetic algorithm\n",
        "            # if curr_weight == max_weight:\n",
        "            #     break\n",
        "    \n",
        "        item_choices = sorted([index for index, decision in zip(indices, decisions) if decision == 1])\n",
        "        \n",
        "        # return either the full decision list or the indices of the selected items\n",
        "        if as_item_choices:\n",
        "            return item_choices\n",
        "        else:\n",
        "            return decisions\n",
        "    \n",
        "    \n",
        "    def sort_values_weights(self):\n",
        "        \"\"\" \n",
        "        Sorting our lists of weights and values together with their indices \n",
        "        in descending order by the ratio (value/weight)\n",
        "        \"\"\"\n",
        "        list_ = sorted(zip(self.problem.values, self.problem.weights, range(self.problem.n_items)), \n",
        "                       reverse = True, \n",
        "                       key = lambda pair: pair[0]/pair[1])\n",
        "\n",
        "        return zip(*list_)"
      ],
      "execution_count": null,
      "outputs": []
    },
    {
      "cell_type": "markdown",
      "metadata": {
        "id": "OTIqHDjjrw1d"
      },
      "source": [
        "Now we can create an object of the problem and pass it to the GreedyKnapsack class and call the solve method to get a solution. "
      ]
    },
    {
      "cell_type": "code",
      "metadata": {
        "colab": {
          "base_uri": "https://localhost:8080/"
        },
        "id": "_pEuZV24jh81",
        "outputId": "e9ee699c-4c23-4562-a0dc-ecfba6a9c96a"
      },
      "source": [
        "problem = KnapsackProblem(values=values, weights=weights, max_weight=max_weight)\n",
        "greedy = GreedyKnapsack(problem)\n",
        "greedy.solve(as_item_choices=False)"
      ],
      "execution_count": null,
      "outputs": [
        {
          "output_type": "execute_result",
          "data": {
            "text/plain": [
              "[1, 1, 1, 1, 0, 0, 1]"
            ]
          },
          "metadata": {},
          "execution_count": 6
        }
      ]
    },
    {
      "cell_type": "markdown",
      "metadata": {
        "id": "HaE0k7y8msjL"
      },
      "source": [
        "## 3. Genetic Algorithm\n",
        "\n",
        "Another approach to solve the Knapsack Problem is with genetic algorithms. The aim is to create a population of solutions and interatively select the best performing ones (intentionally or randomly) and attempt to improve on them.\n",
        "\n",
        "Basic intuition:\n",
        "- We randomly generate a decision list for each chromosome (legal or not)\n",
        "- There is a fitting_function which we want to optimize (in this case we want to maximize the value of our solution as long as it is legal)\n",
        "- At each step of the algorithm we select part of the population of solutions that are performing the best and we 'mutate' them slightly in hope that some of them will be better than before\n",
        "\n",
        "Aims:\n",
        "- Understand better how genetic algorithms function and what their drawbacks are\n",
        "- See how well they compare to the greedy algorithm presented above\n",
        "- Figure out for this instance of the knapsack problem, what set of hyperparameters for the genetic algorithm will find the best solutions\n",
        "\n",
        "Structure:\n",
        "- Abstract class of Chromosome which will act as one solution\n",
        "- Class of ChromosomeKnapsack which inherits the Chromosome class\n",
        "- Population class which holds a list of our chromosomes (solutions)\n",
        "- GeneticAlgorithm class which accepts a Population object and applies the algorithm to it\n",
        "\n"
      ]
    },
    {
      "cell_type": "code",
      "metadata": {
        "id": "oqCIJohxmwWP"
      },
      "source": [
        "from abc import ABC, abstractmethod\n",
        "\n",
        "class Chromosome(ABC):\n",
        "    \"\"\"\n",
        "    Abstract class for chromosome, requires the fitting_function and mutate\n",
        "    \"\"\"\n",
        "    def __init__(self):\n",
        "        # List of decisions the algorithm makes\n",
        "        self.decisions = None\n",
        "\n",
        "    def __str__(self):\n",
        "        \"\"\" \n",
        "        Allows us to print a chromosomes decisions and its fit_score\n",
        "        \"\"\"\n",
        "        return self.decisions.__str__() + \"fit_score = \" + str(self.fitting_function())\n",
        "\n",
        "    @abstractmethod\n",
        "    def fitting_function(self):\n",
        "        \"\"\"\n",
        "        The function that the genetic algorithm will maximize or minimize\n",
        "        \"\"\"\n",
        "        pass\n",
        "    \n",
        "    @abstractmethod\n",
        "    def mutate(self, probability):\n",
        "        \"\"\"\n",
        "        Slightly changes our solution with probability as a hyperparameter\n",
        "        \"\"\"\n",
        "        pass\n"
      ],
      "execution_count": null,
      "outputs": []
    },
    {
      "cell_type": "markdown",
      "metadata": {
        "id": "D1Rm9C4cv18e"
      },
      "source": [
        "We defined an abstract class in this case since in the future we might want to solve a different kind of problem (not necessarily the knapsack problem) and then classes for applying the genetic algorithms themselves will be able to accept any chromosome, knapsack or not. "
      ]
    },
    {
      "cell_type": "markdown",
      "metadata": {
        "id": "t5OmL5HOwbw4"
      },
      "source": [
        "### 3.1 ChromosomeKnapsack implementation\n",
        "Main function:\n",
        "- The fitting_function merely returns a dot product of the values list with the decision list as long of the solution is legal, for illegal solutions it returns -1\n",
        "- cross_over performs the standard 1 point crossing over for 2 chromosomes"
      ]
    },
    {
      "cell_type": "code",
      "metadata": {
        "id": "gg20Ch2lmzxy"
      },
      "source": [
        "import random\n",
        "from copy import deepcopy"
      ],
      "execution_count": null,
      "outputs": []
    },
    {
      "cell_type": "code",
      "metadata": {
        "id": "q4sfhzgPm3Nd"
      },
      "source": [
        "class ChromosomeKnapsack(Chromosome):\n",
        "    \n",
        "    def __init__(self, problem:KnapsackProblem):\n",
        "        # Object of our knapsack problem (contains weights/values/max_load/size)\n",
        "        self.problem = problem \n",
        "        \n",
        "        # Randomly initializing a solutions of our decision list\n",
        "        self.decisions = random.choices([0, 1], weights=[1,1], k=problem.n_items) \n",
        "        \n",
        "    def fitting_function(self):\n",
        "        \"\"\"\n",
        "        Returns higher values for better solutions\n",
        "        This is the function we want to minimize\n",
        "        If a solution is not possible, return -1\n",
        "        \"\"\"\n",
        "        if self.is_legal():\n",
        "            return self.problem.solution_value(self.decisions)\n",
        "        else:\n",
        "            return -1\n",
        "    \n",
        "    def is_legal(self):\n",
        "        \"\"\"\n",
        "        Checks if given solution (decision list) does not exceed the max_load\n",
        "        \"\"\"\n",
        "        if self.problem.solution_weight(self.decisions) > self.problem.max_weight:\n",
        "            return False\n",
        "        else:\n",
        "            return True\n",
        "    \n",
        "    def mutate(self, probability:float):\n",
        "        \"\"\"\n",
        "        Changes decisions slightly with probability=probability\n",
        "        probability: probability of modifying an element in our decisions list\n",
        "        \"\"\"\n",
        "        \n",
        "        # Create a copy of the current solution\n",
        "        # TODO: consider if deepcopy is needed here or if a simple copy will suffice\n",
        "        mod_decisions = deepcopy(self.decisions)\n",
        "        \n",
        "        # Choose which element of the solution list we are changing\n",
        "        index = random.randint(0, self.problem.n_items - 1)\n",
        "        \n",
        "        # Modify the item in the list with probability=probability\n",
        "        if random.random() <= probability: mod_decisions[index] = -mod_decisions[index] + 1\n",
        "        \n",
        "        # Create a copy of the chromosome\n",
        "        new_chromosome = deepcopy(self)\n",
        "        new_chromosome.decisions = mod_decisions\n",
        "        \n",
        "        return new_chromosome\n",
        "\n",
        "    @staticmethod\n",
        "    def cross_over(chromosome_a, chromosome_b) -> tuple:\n",
        "        ''' Take 2 KnapsackChromosomes and returns 2. This function performs the 1 point crossing over'''\n",
        "        \n",
        "        # index to split on\n",
        "        index = random.randint(1, len(chromosome_a.decisions) - 2)\n",
        "\n",
        "        chromosome_c = deepcopy(chromosome_a)\n",
        "        chromosome_c.decisions[index:] = chromosome_b.decisions[index:]\n",
        "\n",
        "        chromosome_d = deepcopy(chromosome_b)\n",
        "        chromosome_d.decisions[index:] = chromosome_a.decisions[index:]\n",
        "\n",
        "        return chromosome_c, chromosome_d\n"
      ],
      "execution_count": null,
      "outputs": []
    },
    {
      "cell_type": "code",
      "metadata": {
        "colab": {
          "base_uri": "https://localhost:8080/"
        },
        "id": "R22swIZQm53e",
        "outputId": "9d28b65d-f425-48cc-e0ba-8f6c5fe736b7"
      },
      "source": [
        "max_load = 10\n",
        "values = [5, 7, 8, 21, 5]\n",
        "weights = [1, 2, 3, 4, 6]\n",
        "\n",
        "problem = KnapsackProblem(values, weights, max_load)\n",
        "chrom_a = ChromosomeKnapsack(problem)\n",
        "chrom_b = ChromosomeKnapsack(problem)\n",
        "\n",
        "print(\"chrome_a:\", chrom_a.decisions)\n",
        "print(\"chrome_b:\", chrom_b.decisions)\n",
        "\n",
        "chrom_c, chrom_d = ChromosomeKnapsack.cross_over(chrom_a, chrom_b)\n",
        "\n",
        "print(\"chrome_c:\", chrom_c.decisions)\n",
        "print(\"chrome_d:\", chrom_d.decisions)\n"
      ],
      "execution_count": null,
      "outputs": [
        {
          "output_type": "stream",
          "name": "stdout",
          "text": [
            "chrome_a: [0, 1, 0, 1, 1]\n",
            "chrome_b: [1, 0, 1, 0, 0]\n",
            "chrome_c: [0, 1, 1, 0, 0]\n",
            "chrome_d: [1, 0, 0, 1, 1]\n"
          ]
        }
      ]
    },
    {
      "cell_type": "code",
      "metadata": {
        "colab": {
          "base_uri": "https://localhost:8080/"
        },
        "id": "I7bXInZqnF4s",
        "outputId": "41fce210-49f8-47ab-8e87-5760c479a9b0"
      },
      "source": [
        "max_load = 10\n",
        "values = [5, 7, 8, 21, 5]\n",
        "weights = [1, 2, 3, 4, 6]\n",
        "\n",
        "problem = KnapsackProblem(values, weights, max_load)\n",
        "chrom = ChromosomeKnapsack(problem)\n",
        "\n",
        "# Legal solution\n",
        "decisions = [0, 0, 0, 1, 1]\n",
        "chrom.decisions = decisions\n",
        "print(\"Decisions\", decisions,\" is legal?\", chrom.is_legal())\n",
        "print(\"Fitting function\", chrom.fitting_function(), '\\n')\n",
        "\n",
        "# Illegal solution\n",
        "decisions = [1, 1, 1, 1, 1]\n",
        "chrom.decisions = decisions\n",
        "print(\"Decisions\", decisions,\" is legal?\", chrom.is_legal())\n",
        "print(\"Fitting function\", chrom.fitting_function(), '\\n')"
      ],
      "execution_count": null,
      "outputs": [
        {
          "output_type": "stream",
          "name": "stdout",
          "text": [
            "Decisions [0, 0, 0, 1, 1]  is legal? True\n",
            "Fitting function 26 \n",
            "\n",
            "Decisions [1, 1, 1, 1, 1]  is legal? False\n",
            "Fitting function -1 \n",
            "\n"
          ]
        }
      ]
    },
    {
      "cell_type": "markdown",
      "metadata": {
        "id": "YTPiKyKKq3rE"
      },
      "source": [
        "---\n",
        "### **Population Class**\n",
        "\n",
        "1. The population will hold a list of our chromosomes\n",
        "2. We will keep a list of their scores from the fitting function\n",
        "3. When modifying the chromosomes (mutating, crossing over, etc.) we will set the self._scores_updated flag to FALSE so that we know to update them again. We do this to avoid calling the fitting function too many times when it is not necessary (to be more computationally efficient)\n",
        "4. We include a few different methods for selecting better or different chromosomes from the population\n",
        "5. There are also method to plot the current state of the population, look at the distribution of scores across all chromosomes\n",
        "\n",
        "##### **How we initialize the population**\n",
        "- At first we simply initialize each chromosome randomly\n",
        "- If the problem is not too difficult, this usually works\n",
        "    - This gives us a quite diverse population as long as enough of the population has chromosomes which give allowed solutions\n",
        "- When the problem is difficult, for e.g. we have many items to place in the knapsack but the maximum weight that the knapsack can hold is low, almost all randomly initialized chromosomes will not be legal solutions\n",
        "    - In this case we use the weight of the heaviest item to randomly select a specified amount of items for each chromosome\n",
        "    - As long as max_weight >= heaviest_item_weight * n_items, we know that we will have legal solutions\n",
        "\n",
        "##### **Population size considerations**\n",
        "- The larger the population is, the more computionally expensive it will be to iterate\n",
        "- However a larger population means we have more diversity in our population\n",
        "- Thus selecting the right population size involves selecting a population large enough to be diverse without being too expensive<\n",
        "--- "
      ]
    },
    {
      "cell_type": "code",
      "metadata": {
        "id": "HNRW3l5AnJHx"
      },
      "source": [
        "from math import exp\n",
        "import matplotlib.pyplot as plt\n",
        "import statistics"
      ],
      "execution_count": null,
      "outputs": []
    },
    {
      "cell_type": "code",
      "metadata": {
        "id": "nBKikCQ2nNvQ"
      },
      "source": [
        "class Population:\n",
        "    def __init__(self, size, chromosome_class, problem:KnapsackProblem):\n",
        "        # population size (how many chromosomes we have at once active)  \n",
        "        self.size = size\n",
        "\n",
        "        # initialize our list of chromosomes\n",
        "        self._members = [chromosome_class(problem) for _ in range(size)]\n",
        "\n",
        "        # list of our fit scores\n",
        "        self.__fit_scores = None\n",
        "\n",
        "        # boolean flag which tells us if we need to update the __fit_scores\n",
        "        # value if the population was altered/mutated\n",
        "        self._scores_updated = False\n",
        "\n",
        "        # we check if we got any legal solutions\n",
        "        init_scores = [chrom.fitting_function() for chrom in self.members]\n",
        "\n",
        "        # alter solution if most scores are illegal \n",
        "        if statistics.mean(init_scores) <= 0:\n",
        "            highest_item_weight = problem.find_highest_weight()\n",
        "            max_num_selected_items = int(problem.max_weight / highest_item_weight)\n",
        "\n",
        "            for member in self.members:\n",
        "                indices = random.choices(range(0, problem.n_items), k=max_num_selected_items)\n",
        "\n",
        "                new_decisions = [0] * problem.n_items\n",
        "                for index in indices:\n",
        "                    new_decisions[index] = 1\n",
        "                \n",
        "                member.decisions = new_decisions\n",
        "                \n",
        "\n",
        "\n",
        "    @members.setter\n",
        "    def members(self, value):\n",
        "        self._members = value\n",
        "        self._scores_updated = False\n",
        "\n",
        "    @property\n",
        "    def fit_scores(self):\n",
        "        if self._scores_updated:\n",
        "            return self.__fit_scores\n",
        "        else:\n",
        "            # Update the scores\n",
        "            self.__fit_scores = [chrom.fitting_function() for chrom in self.members]\n",
        "\n",
        "            # Change the flag to TRUE after updating scores\n",
        "            self._scores_updated = True\n",
        "            return self.__fit_scores\n",
        "\n",
        "    def _calculate_scores(self, score_method=None):\n",
        "        if score_method == \"softmax\":\n",
        "            # exp(...) imported from math\n",
        "            # return [exp(chrom.fitting_function()) for chrom in self.members]\n",
        "            return [exp(score) for score in self.fit_scores]\n",
        "        elif score_method == \"ratio\":\n",
        "            # Add +2 since for illegal decision lists we have -1\n",
        "            # return [chrom.fitting_function() + 2 for chrom in self.members]\n",
        "            return [score + 2 for score in self.fit_scores]\n",
        "        else:\n",
        "            # Default fit score (includes -1 values for illegal decision lists)\n",
        "            # return [chrom.fitting_function() for chrom in self.members]\n",
        "            return self.fit_scores\n",
        "\n",
        "    @staticmethod\n",
        "    def _calculate_sample_probabilities(scores):\n",
        "        total_score = sum(scores)\n",
        "        return [score/total_score for score in scores]\n",
        "\n",
        "    def select_parents_at_random(self):\n",
        "        indices = random.sample(range(0, self.size), k=2)\n",
        "\n",
        "        chrom_a = self.members[indices[0]]\n",
        "        chrom_b = self.members[indices[1]]\n",
        "\n",
        "        return chrom_a, chrom_b\n",
        "\n",
        "    def select_parents_by_ratio(self):\n",
        "        scores = self._calculate_scores(\"ratio\")\n",
        "        sample_probabilities = Population._calculate_sample_probabilities(scores)\n",
        "\n",
        "        indices = random.choices(range(0, self.size), weights=sample_probabilities, k=2)\n",
        "\n",
        "        chrom_a = self.members[indices[0]]\n",
        "        chrom_b = self.members[indices[1]]\n",
        "\n",
        "        return chrom_a, chrom_b\n",
        "\n",
        "    def select_parents_softmax(self):\n",
        "        scores = self._calculate_scores(\"softmax\")\n",
        "        sample_probabilities = Population._calculate_sample_probabilities(scores)\n",
        "\n",
        "        indices = random.choices(range(0, self.size), weights=sample_probabilities, k=2)\n",
        "\n",
        "        chrom_a = self.members[indices[0]]\n",
        "        chrom_b = self.members[indices[1]]\n",
        "\n",
        "        return chrom_a, chrom_b\n",
        "\n",
        "    def select_parents_by_tournament(self, tournament_size=150):\n",
        "        \"\"\"\n",
        "        Randomly selects tournament_size amount of chromosomes and selects \n",
        "        the 2 best ones\n",
        "        \"\"\"\n",
        "\n",
        "        # Drawing indices randomly\n",
        "        indices = random.choices(range(0, self.size), k=tournament_size)\n",
        "        \n",
        "        # Getting fit_scores for our selected indices\n",
        "        # scores = [self.members[i].fitting_function() for i in indices]\n",
        "\n",
        "        # Sorting indices in from highest to lowest\n",
        "        sorted_indices = sorted(zip(indices, self.fit_scores),\n",
        "                                reverse=True,\n",
        "                                key= lambda x: x[1])\n",
        "        \n",
        "        # Selecting the two chromosomes from tournament with highest score\n",
        "        # FIXED: incorrect indices before were being selected\n",
        "        chrom_a = self.members[sorted_indices[0][0]]\n",
        "        chrom_b = self.members[sorted_indices[1][0]]\n",
        "\n",
        "        return chrom_a, chrom_b\n",
        "\n",
        "    def view_fit_score(self):\n",
        "        \"\"\"\n",
        "        Plots a histogram of the distribution of scores in the population\n",
        "        \"\"\"\n",
        "        #scores = self._calculate_scores()\n",
        "        plt.hist(self.fit_scores, bins=int(0.2*self.size))\n",
        "        plt.title('Distribution of fit scores in the Population')\n",
        "        plt.xlabel('Fit Score')\n",
        "        plt.ylabel('Count')\n",
        "        plt.show()\n",
        "\n",
        "    def view_fit_score_probabilities(self):\n",
        "        # select_parents_by_ratio\n",
        "        scores_ratio = self._calculate_scores(\"ratio\")\n",
        "        scores_ratio = list(set(scores_ratio))\n",
        "        sample_probabilities_ratio = Population._calculate_sample_probabilities(scores_ratio)\n",
        "\n",
        "        # select_parents_softmax\n",
        "        scores_soft = self._calculate_scores(\"softmax\")\n",
        "        scores_soft = list(set(scores_soft))\n",
        "        sample_probabilities_soft = Population._calculate_sample_probabilities(scores_soft)\n",
        "\n",
        "        plt.scatter(scores_ratio, sample_probabilities_ratio)\n",
        "        plt.xlabel('score')\n",
        "        plt.ylabel('sample probability')\n",
        "        plt.title('Ratio')\n",
        "        plt.show()\n",
        "\n",
        "        plt.scatter(scores_soft, sample_probabilities_soft)\n",
        "        plt.xlabel('score')\n",
        "        plt.ylabel('sample probability')\n",
        "        plt.title('Softmax')\n",
        "        plt.show()"
      ],
      "execution_count": null,
      "outputs": []
    },
    {
      "cell_type": "code",
      "metadata": {
        "colab": {
          "base_uri": "https://localhost:8080/",
          "height": 1000
        },
        "id": "giMY458UnWT3",
        "outputId": "a349c8eb-e484-4481-9975-bc7ca9aafaec"
      },
      "source": [
        "max_load = 20\n",
        "values = [5, 7, 8, 21, 5, 4, 7, 22, 3, 2, 9]\n",
        "weights = [1, 2, 3, 4, 6, 5, 7, 2, 1, 4, 1]\n",
        "\n",
        "problem = KnapsackProblem(values, weights, max_load)\n",
        "my_population = Population(1000, ChromosomeKnapsack, problem)\n",
        "\n",
        "chrom_a1, chrom_b1 = my_population.select_parents_at_random()\n",
        "print(\"a1: \", chrom_a1)\n",
        "print(\"b1: \", chrom_b1, '\\n')\n",
        "\n",
        "chrom_a2, chrom_b2 = my_population.select_parents_by_ratio()\n",
        "print(\"a2: \", chrom_a2)\n",
        "print(\"b2: \", chrom_b2, '\\n')\n",
        "\n",
        "chrom_a3, chrom_b3 = my_population.select_parents_softmax()\n",
        "print(\"a3: \", chrom_a3)\n",
        "print(\"b3: \", chrom_b3, '\\n')\n",
        "\n",
        "chrom_a4, chrom_b4 = my_population.select_parents_by_tournament()\n",
        "print(\"a4: \", chrom_a4)\n",
        "print(\"b4: \", chrom_b4, '\\n')\n",
        "\n",
        "my_population.view_fit_score()\n",
        "\n",
        "my_population.view_fit_score_probabilities()"
      ],
      "execution_count": null,
      "outputs": [
        {
          "output_type": "stream",
          "text": [
            "a1:  [0, 0, 1, 0, 1, 1, 1, 0, 1, 0, 0]fit_score = -1\n",
            "b1:  [0, 0, 1, 1, 1, 0, 0, 0, 0, 1, 0]fit_score = 36 \n",
            "\n",
            "a2:  [0, 0, 0, 1, 0, 1, 1, 1, 0, 0, 0]fit_score = 54\n",
            "b2:  [1, 0, 0, 1, 1, 1, 0, 1, 1, 0, 1]fit_score = 69 \n",
            "\n",
            "a3:  [1, 1, 1, 1, 0, 0, 1, 1, 0, 0, 1]fit_score = 79\n",
            "b3:  [1, 1, 1, 1, 1, 0, 0, 1, 1, 0, 1]fit_score = 80 \n",
            "\n",
            "a4:  [1, 1, 0, 0, 1, 1, 1, 0, 0, 0, 1]fit_score = -1\n",
            "b4:  [0, 0, 1, 1, 0, 0, 0, 0, 1, 1, 1]fit_score = 43 \n",
            "\n"
          ],
          "name": "stdout"
        },
        {
          "output_type": "display_data",
          "data": {
            "image/png": "[encoded data removed]",
            "text/plain": [
              "<Figure size 432x288 with 1 Axes>"
            ]
          },
          "metadata": {
            "needs_background": "light"
          }
        },
        {
          "output_type": "display_data",
          "data": {
            "image/png": "[encoded data removed]",
            "text/plain": [
              "<Figure size 432x288 with 1 Axes>"
            ]
          },
          "metadata": {
            "needs_background": "light"
          }
        },
        {
          "output_type": "display_data",
          "data": {
            "image/png": "[encoded data removed]",
            "text/plain": [
              "<Figure size 432x288 with 1 Axes>"
            ]
          },
          "metadata": {
            "needs_background": "light"
          }
        }
      ]
    },
    {
      "cell_type": "code",
      "metadata": {
        "id": "JfU0ZuFVnYZ-"
      },
      "source": [
        "import tqdm       # progress bar"
      ],
      "execution_count": null,
      "outputs": []
    },
    {
      "cell_type": "code",
      "metadata": {
        "id": "Lxvbg43Knbmm"
      },
      "source": [
        "class GeneticAlgorithm():\n",
        "    def __init__(self, population:Population):\n",
        "        self.population = population\n",
        "\n",
        "    def _is_odd(self):\n",
        "        is_odd = False\n",
        "        if self.population.size % 2 != 0:\n",
        "            is_odd = True\n",
        "        return is_odd\n",
        "\n",
        "    def _select_new_members(self, select_method=\"softmax\"):\n",
        "        \"\"\"\n",
        "        Selects new members of our population which we will after mutate\n",
        "        \n",
        "        select_method  -  method by which we will select new members\n",
        "        \"\"\"\n",
        "        pop_size = self.population.size\n",
        "        is_odd = self._is_odd()\n",
        "\n",
        "        if select_method == \"softmax\":\n",
        "            new_members = [item for item in self.population.select_parents_softmax() for _ in range(0, int(pop_size/2))]\n",
        "            if is_odd: new_members.append(self.population.select_parents_softmax()[0])\n",
        "        elif select_method == \"random\":\n",
        "            new_members = [item for item in self.population.select_parents_at_random() for _ in range(0, int(pop_size/2))]\n",
        "            if is_odd: new_members.append(self.population.select_parents_at_random()[0])\n",
        "        elif select_method == \"tournament\":\n",
        "            new_members = [item for item in self.population.select_parents_by_tournament() for _ in range(0, int(pop_size/2))]\n",
        "            if is_odd: new_members.append(self.population.select_parents_by_tournament()[0])\n",
        "        elif select_method == \"ratio\":\n",
        "            new_members = [item for item in self.population.select_parents_by_ratio() for _ in range(0, int(pop_size/2))]\n",
        "            if is_odd: new_members.append(self.population.select_parents_by_ratio()[0])\n",
        "\n",
        "        return new_members\n",
        "\n",
        "    @staticmethod\n",
        "    def view_fit_scores(mean_scores, max_scores, fit_method):\n",
        "        n_iter = len(mean_scores)\n",
        "\n",
        "        plt.plot(range(0, n_iter), mean_scores, label=\"mean score\")\n",
        "        plt.plot(range(0, n_iter), max_scores, label=\"max score\")\n",
        "        plt.legend()\n",
        "        plt.xlabel(\"number iterations\")\n",
        "        plt.ylabel(\"fit score\")\n",
        "        plt.title(fit_method)\n",
        "        plt.show()\n",
        "\n",
        "    def _replace_population_with_new_mutated_members(self, new_members, probability=0.5):\n",
        "        mutated_members = [member.mutate(probability=probability) for member in new_members]\n",
        "        self.population.members = mutated_members\n",
        "        \n",
        "    def fit(self, n_iter=100, probability=0.5, select_method=\"softmax\", \n",
        "            elitism=False, plot_scores=True):\n",
        "        \"\"\"\n",
        "        n_iter       - how many times we iterate the algorithm\n",
        "        probability  - with what probability do we mutate a chromosome\n",
        "        modify_ratio - what ratio of the best chromosomes do we mutate,\n",
        "                       and what ratio of the worst chromosomes do we remove\n",
        "        \"\"\"\n",
        "        \n",
        "        mean_scores = []\n",
        "        max_scores = []\n",
        "\n",
        "        # init_fit_scores = self.population._calculate_fit_scores()\n",
        "        init_fit_scores = self.population.fit_scores\n",
        "\n",
        "        mean_scores.append(statistics.mean(init_fit_scores))\n",
        "        max_scores.append(max(init_fit_scores))\n",
        "\n",
        "        for i in tqdm.tqdm(range(n_iter)):\n",
        "            # Select new members for our population\n",
        "            # new_members = [item for item in self.population.select_parents_softmax() for _ in range(0, int(self.population.size / 2))]\n",
        "\n",
        "            # Add a single extra chromosome if we are dealing with an odd sized population\n",
        "            # if self._is_odd(): new_members.append(self.population.select_parents_softmax()[0])\n",
        "\n",
        "            new_members = self._select_new_members(select_method)\n",
        "\n",
        "            # Save elite solution in the current population first\n",
        "            if elitism:\n",
        "                # What percentage of the population do we want to save\n",
        "                ratio = 0.1\n",
        "                # How many chromosomes are we saving\n",
        "                n_leaders = int(ratio * self.population.size)\n",
        "\n",
        "                curr_fit_scores = deepcopy(self.population.fit_scores)\n",
        "                # Finding the indices of the best scores\n",
        "                sorted_indices_scores = sorted(zip(curr_fit_scores, range(0,self.population.size)),\n",
        "                                               reverse=True,\n",
        "                                               key = lambda pair: pair[0])\n",
        "                \n",
        "                _, sorted_indices = zip(*sorted_indices_scores)\n",
        "                leader_indices = sorted_indices[:n_leaders]\n",
        "\n",
        "                leader_chromosomes = [deepcopy(self.population.members[i]) for i in leader_indices]\n",
        "\n",
        "\n",
        "            # Mutate our new population members\n",
        "            # new_members_mutated = [member.mutate(probability=probability) for member in new_members]\n",
        "            # self.population.members = new_members_mutated\n",
        "            self._replace_population_with_new_mutated_members(new_members=new_members, \n",
        "                                                              probability=probability)\n",
        "            \n",
        "            # Overrite worst solutions in mutated population with our elite\n",
        "            # solutions\n",
        "            if elitism:\n",
        "                self.population.members = sorted(self.population.members,\n",
        "                                                 reverse=False, # We want the worst scores first\n",
        "                                                 key = lambda member: member.fitting_function())\n",
        "\n",
        "                self.population.members[:n_leaders] = leader_chromosomes\n",
        "                \n",
        "\n",
        "            # Getting mean and max score for population\n",
        "            # fit_scores = [chrom.fitting_function() for chrom in new_members]\n",
        "            fit_scores = [chrom.fitting_function() for chrom in self.population.members]\n",
        "            # fit_scores = self.population.fit_scores\n",
        "            mean_scores.append(statistics.mean(fit_scores))\n",
        "            max_scores.append(max(fit_scores))\n",
        "\n",
        "            # TODO: Add crossover here somewhere\n",
        "\n",
        "            # TODO: Add elitism - best 5% of scores are in the new population\n",
        "            #                   - they are not mutated/crossover\n",
        "\n",
        "        if plot_scores:\n",
        "            GeneticAlgorithm.view_fit_scores(mean_scores, max_scores, select_method)"
      ],
      "execution_count": null,
      "outputs": []
    },
    {
      "cell_type": "code",
      "metadata": {
        "id": "DbEe6TGMilJK"
      },
      "source": [
        "def generate_values_weights_maxweight(n_items = 50, max_value = 20):\n",
        "    values = [random.randint(1, max_value) for _ in range(0, n_items)]\n",
        "    weights = [random.randint(1, max_weight) for _ in range(0, n_items)]\n",
        "    maxweight = 100\n",
        "\n",
        "    return values, weights, maxweight"
      ],
      "execution_count": null,
      "outputs": []
    },
    {
      "cell_type": "code",
      "metadata": {
        "colab": {
          "base_uri": "https://localhost:8080/",
          "height": 1000
        },
        "id": "27y1cpiFndab",
        "outputId": "52ea2728-64e4-4c4a-db11-da44b25f126c"
      },
      "source": [
        "# max_weight = 40\n",
        "# values = [5, 7, 8, 21, 5, 4, 7, 22, 3, 2, 9, 24, 1]\n",
        "# weights = [1, 2, 3, 4, 6, 5, 7, 2, 1, 4, 1, 5, 20]\n",
        "\n",
        "random.seed(12)\n",
        "\n",
        "values, weights, max_weight = generate_values_weights_maxweight()\n",
        "\n",
        "problem = KnapsackProblem(values, weights, max_weight)\n",
        "\n",
        "population_size = 200\n",
        "# print(\"population random init start\")\n",
        "my_population_random = Population(population_size, ChromosomeKnapsack, problem)\n",
        "\n",
        "# print(\"population ratio init start\")\n",
        "my_population_ratio = Population(population_size, ChromosomeKnapsack, problem)\n",
        "\n",
        "# print(\"population softmax init start\")\n",
        "my_population_softmax = Population(population_size, ChromosomeKnapsack, problem)\n",
        "\n",
        "# print(\"population tournament init start\")\n",
        "my_population_tournament = Population(population_size, ChromosomeKnapsack, problem)\n",
        "\n",
        "n_iter = 200\n",
        "\n",
        "# TODO: When there are many items to choose from with high enough weights, \n",
        "#       it becomes very difficult to randomly initialize a chromosome that \n",
        "#       is not illegal.\n",
        "#\n",
        "#       If all solutions (or a large enough percentage of the population are illegal),\n",
        "#       we should try to figure out a way to select the initial items more carefully\n",
        "#\n",
        "#       Potential solutions:\n",
        "#       1. Limiting how many items are initialized (base it off the maximum weight of one item)\n",
        "#       2. Figuring out a way to find better chromosomes among the illegal ones\n",
        "#           - The closer to the max_weight the better\n",
        "\n",
        "# ELITISM FLAG\n",
        "elitism = True\n",
        "\n",
        "# RANDOM parents select method\n",
        "genetic_random = GeneticAlgorithm(my_population_random)\n",
        "genetic_random.fit(n_iter=n_iter, select_method=\"random\", elitism=elitism)\n",
        "\n",
        "# RATIO parents select method\n",
        "genetic_ratio = GeneticAlgorithm(my_population_ratio)\n",
        "genetic_ratio.fit(n_iter=n_iter, select_method=\"ratio\", elitism=elitism)\n",
        "\n",
        "# # SOFTMAX parents select method\n",
        "genetic_softmax = GeneticAlgorithm(my_population_softmax)\n",
        "genetic_softmax.fit(n_iter=n_iter, select_method=\"softmax\", elitism=elitism)\n",
        "\n",
        "# # TOURNAMENT parents select method\n",
        "genetic_tournament = GeneticAlgorithm(my_population_tournament)\n",
        "genetic_tournament.fit(n_iter=n_iter, select_method=\"tournament\", elitism=elitism)"
      ],
      "execution_count": null,
      "outputs": [
        {
          "output_type": "stream",
          "text": [
            "100%|██████████| 200/200 [00:09<00:00, 20.68it/s]\n"
          ],
          "name": "stderr"
        },
        {
          "output_type": "display_data",
          "data": {
            "image/png": "[encoded data removed]",
            "text/plain": [
              "<Figure size 432x288 with 1 Axes>"
            ]
          },
          "metadata": {
            "needs_background": "light"
          }
        },
        {
          "output_type": "stream",
          "text": [
            "100%|██████████| 200/200 [00:10<00:00, 19.37it/s]\n"
          ],
          "name": "stderr"
        },
        {
          "output_type": "display_data",
          "data": {
            "image/png": "[encoded data removed]",
            "text/plain": [
              "<Figure size 432x288 with 1 Axes>"
            ]
          },
          "metadata": {
            "needs_background": "light"
          }
        },
        {
          "output_type": "stream",
          "text": [
            "100%|██████████| 200/200 [00:10<00:00, 19.68it/s]\n"
          ],
          "name": "stderr"
        },
        {
          "output_type": "display_data",
          "data": {
            "image/png": "[encoded data removed]",
            "text/plain": [
              "<Figure size 432x288 with 1 Axes>"
            ]
          },
          "metadata": {
            "needs_background": "light"
          }
        },
        {
          "output_type": "stream",
          "text": [
            "100%|██████████| 200/200 [00:09<00:00, 20.28it/s]\n"
          ],
          "name": "stderr"
        },
        {
          "output_type": "display_data",
          "data": {
            "image/png": "[encoded data removed]",
            "text/plain": [
              "<Figure size 432x288 with 1 Axes>"
            ]
          },
          "metadata": {
            "needs_background": "light"
          }
        }
      ]
    },
    {
      "cell_type": "markdown",
      "metadata": {
        "id": "SOYX7XpvMm-z"
      },
      "source": [
        "### Observations (only using mutate with probability = 50% and no elitism)\n",
        "\n",
        "- Random\n",
        "    - Unless the problem is quite easy, the random algorithm does not work well\n",
        "    - It could however get lucky and by elitism yield a good solution in the end\n",
        "    - Choosing a more informed algorithm could help us find a better solution in a lower amount of iterations\n",
        "\n",
        "- Ratio\n",
        "    - More informed than randomly selecting parents\n",
        "    - By not giving too much weight to the best solution it still often will select less optimal solutions for the parents yielding a greater population diversity\n",
        "    - More likely to find a better solution than random selection of parents\n",
        "\n",
        "- Softmax\n",
        "    - Gives higher weights to the better solutions\n",
        "    - More likely to get stuck in local minima (without elitism)\n",
        "    - Less population diversity\n"
      ]
    },
    {
      "cell_type": "code",
      "metadata": {
        "id": "xZoKALFMzMt3"
      },
      "source": [
        ""
      ],
      "execution_count": null,
      "outputs": []
    }
  ]
}